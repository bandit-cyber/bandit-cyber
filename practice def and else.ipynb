{
  "nbformat": 4,
  "nbformat_minor": 0,
  "metadata": {
    "colab": {
      "provenance": [],
      "authorship_tag": "ABX9TyPQ11vSmuVnY0rgV8dXGhfb",
      "include_colab_link": true
    },
    "kernelspec": {
      "name": "python3",
      "display_name": "Python 3"
    },
    "language_info": {
      "name": "python"
    }
  },
  "cells": [
    {
      "cell_type": "markdown",
      "metadata": {
        "id": "view-in-github",
        "colab_type": "text"
      },
      "source": [
        "<a href=\"https://colab.research.google.com/github/bandit-cyber/bandit-cyber/blob/main/practice%20def%20and%20else.ipynb\" target=\"_parent\"><img src=\"https://colab.research.google.com/assets/colab-badge.svg\" alt=\"Open In Colab\"/></a>"
      ]
    },
    {
      "cell_type": "code",
      "execution_count": 1,
      "metadata": {
        "colab": {
          "base_uri": "https://localhost:8080/"
        },
        "id": "J72GEN7XRieZ",
        "outputId": "c933cf97-de5d-402d-ed77-bedb7de1a745"
      },
      "outputs": [
        {
          "output_type": "stream",
          "name": "stdout",
          "text": [
            "Hello Bandit\n"
          ]
        }
      ],
      "source": [
        "print(\"Hello Bandit\")"
      ]
    },
    {
      "cell_type": "code",
      "source": [
        "score = 500\n",
        "if 60 <= score <= 100:\n",
        "  print('passed')\n",
        "elif score > 100:\n",
        "  print('Super passed')\n",
        "else:\n",
        "  print('failed')"
      ],
      "metadata": {
        "colab": {
          "base_uri": "https://localhost:8080/"
        },
        "id": "JvaoDVt5V_xU",
        "outputId": "19c0bfdf-099c-48ee-a13b-3879aea47323"
      },
      "execution_count": 22,
      "outputs": [
        {
          "output_type": "stream",
          "name": "stdout",
          "text": [
            "Super passed\n"
          ]
        }
      ]
    },
    {
      "cell_type": "code",
      "source": [
        "\n",
        "def say_name(name):\n",
        "  print(name)\n",
        "say_name('Mike')"
      ],
      "metadata": {
        "colab": {
          "base_uri": "https://localhost:8080/"
        },
        "id": "kDzmg7FFW1xo",
        "outputId": "a345e716-f0ce-495c-8169-2cac429efba7"
      },
      "execution_count": 25,
      "outputs": [
        {
          "output_type": "stream",
          "name": "stdout",
          "text": [
            "Mike\n"
          ]
        }
      ]
    },
    {
      "cell_type": "code",
      "source": [
        "def greeting(name):\n",
        "  print(f'hey {name}!')\n",
        "greeting('lucy')"
      ],
      "metadata": {
        "colab": {
          "base_uri": "https://localhost:8080/"
        },
        "id": "eA96Q8ZpXpkv",
        "outputId": "87f4ba0c-3322-4b02-e8f7-ca010ae48c81"
      },
      "execution_count": 26,
      "outputs": [
        {
          "output_type": "stream",
          "name": "stdout",
          "text": [
            "hey lucy!\n"
          ]
        }
      ]
    },
    {
      "cell_type": "code",
      "source": [
        "def greeting1(greet,name):\n",
        "  print(f'{greet} {name}!')\n",
        "greeting1('aloha','puppins')"
      ],
      "metadata": {
        "colab": {
          "base_uri": "https://localhost:8080/"
        },
        "id": "3cSEh5pkYKEO",
        "outputId": "ec5ef889-6113-4e7b-b0f1-4a4789191cbe"
      },
      "execution_count": 28,
      "outputs": [
        {
          "output_type": "stream",
          "name": "stdout",
          "text": [
            "aloha puppins!\n"
          ]
        }
      ]
    }
  ]
}