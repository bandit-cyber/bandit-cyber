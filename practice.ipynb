{
  "nbformat": 4,
  "nbformat_minor": 0,
  "metadata": {
    "colab": {
      "provenance": [],
      "authorship_tag": "ABX9TyMx72hx4lkRFE2fMVQ0/U5M",
      "include_colab_link": true
    },
    "kernelspec": {
      "name": "python3",
      "display_name": "Python 3"
    },
    "language_info": {
      "name": "python"
    }
  },
  "cells": [
    {
      "cell_type": "markdown",
      "metadata": {
        "id": "view-in-github",
        "colab_type": "text"
      },
      "source": [
        "<a href=\"https://colab.research.google.com/github/bandit-cyber/bandit-cyber/blob/main/practice.ipynb\" target=\"_parent\"><img src=\"https://colab.research.google.com/assets/colab-badge.svg\" alt=\"Open In Colab\"/></a>"
      ]
    },
    {
      "cell_type": "code",
      "execution_count": 1,
      "metadata": {
        "colab": {
          "base_uri": "https://localhost:8080/"
        },
        "id": "J72GEN7XRieZ",
        "outputId": "c933cf97-de5d-402d-ed77-bedb7de1a745"
      },
      "outputs": [
        {
          "output_type": "stream",
          "name": "stdout",
          "text": [
            "Hello Bandit\n"
          ]
        }
      ],
      "source": [
        "print(\"Hello Bandit\")"
      ]
    },
    {
      "cell_type": "code",
      "source": [
        "def scoretest():\n",
        "  score = 500\n",
        "  if 60 <= score <= 100:\n",
        "    print('passed')\n",
        "  elif score > 100:\n",
        "    print('Super passed')\n",
        "  else:\n",
        "    print('failed')"
      ],
      "metadata": {
        "id": "JvaoDVt5V_xU"
      },
      "execution_count": 45,
      "outputs": []
    },
    {
      "cell_type": "code",
      "source": [
        "def calculateFoodTotal(food, tip_percentage):\n",
        "  tip = food * (tip_percentage/100)\n",
        " #print(tip)\n",
        "  total = food+tip\n",
        " #print(total)\n",
        "  return total\n",
        "calculateFoodTotal(130,17)"
      ],
      "metadata": {
        "colab": {
          "base_uri": "https://localhost:8080/"
        },
        "id": "J1i8mMouc8JW",
        "outputId": "cd0204a4-0762-45e0-f19d-74257551b420"
      },
      "execution_count": 50,
      "outputs": [
        {
          "output_type": "execute_result",
          "data": {
            "text/plain": [
              "152.1"
            ]
          },
          "metadata": {},
          "execution_count": 50
        }
      ]
    },
    {
      "cell_type": "code",
      "source": [
        "\n",
        "def say_name(name):\n",
        "  print(name)\n",
        "say_name('Mike')"
      ],
      "metadata": {
        "colab": {
          "base_uri": "https://localhost:8080/"
        },
        "id": "kDzmg7FFW1xo",
        "outputId": "a345e716-f0ce-495c-8169-2cac429efba7"
      },
      "execution_count": 25,
      "outputs": [
        {
          "output_type": "stream",
          "name": "stdout",
          "text": [
            "Mike\n"
          ]
        }
      ]
    },
    {
      "cell_type": "code",
      "source": [
        "def greeting(name):\n",
        "  print(f'hey {name}!')\n",
        "greeting('lucy')"
      ],
      "metadata": {
        "colab": {
          "base_uri": "https://localhost:8080/"
        },
        "id": "eA96Q8ZpXpkv",
        "outputId": "87f4ba0c-3322-4b02-e8f7-ca010ae48c81"
      },
      "execution_count": 26,
      "outputs": [
        {
          "output_type": "stream",
          "name": "stdout",
          "text": [
            "hey lucy!\n"
          ]
        }
      ]
    },
    {
      "cell_type": "code",
      "source": [
        "def greeting1(greet,name):\n",
        "  print(f'{greet} {name}!')\n",
        "greeting1('aloha','puppins')"
      ],
      "metadata": {
        "colab": {
          "base_uri": "https://localhost:8080/"
        },
        "id": "3cSEh5pkYKEO",
        "outputId": "3f0ea696-2cc6-4f62-e986-7cc567407181"
      },
      "execution_count": 32,
      "outputs": [
        {
          "output_type": "stream",
          "name": "stdout",
          "text": [
            "aloha puppins!\n"
          ]
        }
      ]
    },
    {
      "cell_type": "code",
      "source": [
        "def sum(a,b):\n",
        "  return(a+b)\n",
        "\n",
        "print(sum(50,2))\n",
        "\n",
        "\n"
      ],
      "metadata": {
        "id": "FVykJ4xtaVi_"
      },
      "execution_count": null,
      "outputs": []
    },
    {
      "cell_type": "code",
      "source": [
        "def weathertoemoji(weather: str) -> None:\n",
        "  '''\n",
        "  weatertoemoji takes into 1 argument as a string\n",
        "  '''\n",
        "  if weather == 'rain':\n",
        "    print('umberlla')\n",
        "  elif weather =='cloudy':\n",
        "    print('cloud')\n",
        "  else:\n",
        "    print('sunny')\n",
        "weathertoemoji('rain')"
      ],
      "metadata": {
        "colab": {
          "base_uri": "https://localhost:8080/"
        },
        "id": "vyj6oSt0eZCo",
        "outputId": "223102e9-080a-409a-aa05-39207ffd1809"
      },
      "execution_count": 61,
      "outputs": [
        {
          "output_type": "stream",
          "name": "stdout",
          "text": [
            "umberlla\n"
          ]
        }
      ]
    },
    {
      "cell_type": "code",
      "source": [
        "def bigger_guy(a,b):\n",
        "  if a>b:\n",
        "    return(a)\n",
        "  else:\n",
        "    return(b)\n",
        "bigger_guy(9,3)"
      ],
      "metadata": {
        "colab": {
          "base_uri": "https://localhost:8080/"
        },
        "id": "z9SK_r_ch_1c",
        "outputId": "b00cd69c-ea3c-4673-f5c7-685e8cce7e92"
      },
      "execution_count": 66,
      "outputs": [
        {
          "output_type": "execute_result",
          "data": {
            "text/plain": [
              "9"
            ]
          },
          "metadata": {},
          "execution_count": 66
        }
      ]
    }
  ]
}